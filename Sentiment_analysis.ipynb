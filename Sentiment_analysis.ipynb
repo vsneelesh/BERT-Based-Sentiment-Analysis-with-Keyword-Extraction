{
  "nbformat": 4,
  "nbformat_minor": 0,
  "metadata": {
    "colab": {
      "provenance": [],
      "gpuType": "T4",
      "authorship_tag": "ABX9TyPWfacL9KxkHtegGdnusp+e",
      "include_colab_link": true
    },
    "kernelspec": {
      "name": "python3",
      "display_name": "Python 3"
    },
    "language_info": {
      "name": "python"
    },
    "accelerator": "GPU"
  },
  "cells": [
    {
      "cell_type": "markdown",
      "metadata": {
        "id": "view-in-github",
        "colab_type": "text"
      },
      "source": [
        "<a href=\"https://colab.research.google.com/github/vsneelesh/BERT-Based-Sentiment-Analysis-with-Keyword-Extraction/blob/main/SurveySparrow.ipynb\" target=\"_parent\"><img src=\"https://colab.research.google.com/assets/colab-badge.svg\" alt=\"Open In Colab\"/></a>"
      ]
    },
    {
      "cell_type": "code",
      "source": [
        "\n",
        "import pandas as pd\n",
        "import re\n",
        "import string\n",
        "import nltk\n",
        "from nltk.corpus import stopwords\n",
        "from nltk.stem import PorterStemmer, WordNetLemmatizer\n",
        "from sklearn.preprocessing import LabelEncoder\n",
        "from sklearn.feature_extraction.text import TfidfVectorizer\n",
        "from sklearn.model_selection import train_test_split\n",
        "from sklearn.metrics import accuracy_score, classification_report\n",
        "from gensim.models import FastText\n",
        "import numpy as np\n",
        "from sklearn.linear_model import LogisticRegression\n",
        "import matplotlib.pyplot as plt\n",
        "import seaborn as sns\n"
      ],
      "metadata": {
        "id": "D-8aJNKz1JPx"
      },
      "execution_count": null,
      "outputs": []
    },
    {
      "cell_type": "code",
      "execution_count": null,
      "metadata": {
        "id": "CRMtRapZ-uoY"
      },
      "outputs": [],
      "source": [
        "df = pd.read_csv('WCDataset.csv')"
      ]
    },
    {
      "cell_type": "code",
      "source": [
        "df.head()"
      ],
      "metadata": {
        "colab": {
          "base_uri": "https://localhost:8080/",
          "height": 310
        },
        "id": "osA2M6NKAURz",
        "outputId": "30cdcd35-5700-44bb-8b99-99f59480445c"
      },
      "execution_count": null,
      "outputs": [
        {
          "output_type": "execute_result",
          "data": {
            "text/plain": [
              "   Unnamed: 0  Clothing ID  Age                    Title  \\\n",
              "0           0          767   33                      NaN   \n",
              "1           1         1080   34                      NaN   \n",
              "2           2         1077   60  Some major design flaws   \n",
              "3           3         1049   50         My favorite buy!   \n",
              "4           4          847   47         Flattering shirt   \n",
              "\n",
              "                                         Review Text  Rating  Recommended IND  \\\n",
              "0  Absolutely wonderful - silky and sexy and comf...       4                1   \n",
              "1  Love this dress!  it's sooo pretty.  i happene...       5                1   \n",
              "2  I had such high hopes for this dress and reall...       3                0   \n",
              "3  I love, love, love this jumpsuit. it's fun, fl...       5                1   \n",
              "4  This shirt is very flattering to all due to th...       5                1   \n",
              "\n",
              "   Positive Feedback Count   Division Name Department Name Class Name  \n",
              "0                        0       Initmates        Intimate  Intimates  \n",
              "1                        4         General         Dresses    Dresses  \n",
              "2                        0         General         Dresses    Dresses  \n",
              "3                        0  General Petite         Bottoms      Pants  \n",
              "4                        6         General            Tops    Blouses  "
            ],
            "text/html": [
              "\n",
              "  <div id=\"df-671a59e5-6606-4f7e-b411-7d9c8f0a46a3\" class=\"colab-df-container\">\n",
              "    <div>\n",
              "<style scoped>\n",
              "    .dataframe tbody tr th:only-of-type {\n",
              "        vertical-align: middle;\n",
              "    }\n",
              "\n",
              "    .dataframe tbody tr th {\n",
              "        vertical-align: top;\n",
              "    }\n",
              "\n",
              "    .dataframe thead th {\n",
              "        text-align: right;\n",
              "    }\n",
              "</style>\n",
              "<table border=\"1\" class=\"dataframe\">\n",
              "  <thead>\n",
              "    <tr style=\"text-align: right;\">\n",
              "      <th></th>\n",
              "      <th>Unnamed: 0</th>\n",
              "      <th>Clothing ID</th>\n",
              "      <th>Age</th>\n",
              "      <th>Title</th>\n",
              "      <th>Review Text</th>\n",
              "      <th>Rating</th>\n",
              "      <th>Recommended IND</th>\n",
              "      <th>Positive Feedback Count</th>\n",
              "      <th>Division Name</th>\n",
              "      <th>Department Name</th>\n",
              "      <th>Class Name</th>\n",
              "    </tr>\n",
              "  </thead>\n",
              "  <tbody>\n",
              "    <tr>\n",
              "      <th>0</th>\n",
              "      <td>0</td>\n",
              "      <td>767</td>\n",
              "      <td>33</td>\n",
              "      <td>NaN</td>\n",
              "      <td>Absolutely wonderful - silky and sexy and comf...</td>\n",
              "      <td>4</td>\n",
              "      <td>1</td>\n",
              "      <td>0</td>\n",
              "      <td>Initmates</td>\n",
              "      <td>Intimate</td>\n",
              "      <td>Intimates</td>\n",
              "    </tr>\n",
              "    <tr>\n",
              "      <th>1</th>\n",
              "      <td>1</td>\n",
              "      <td>1080</td>\n",
              "      <td>34</td>\n",
              "      <td>NaN</td>\n",
              "      <td>Love this dress!  it's sooo pretty.  i happene...</td>\n",
              "      <td>5</td>\n",
              "      <td>1</td>\n",
              "      <td>4</td>\n",
              "      <td>General</td>\n",
              "      <td>Dresses</td>\n",
              "      <td>Dresses</td>\n",
              "    </tr>\n",
              "    <tr>\n",
              "      <th>2</th>\n",
              "      <td>2</td>\n",
              "      <td>1077</td>\n",
              "      <td>60</td>\n",
              "      <td>Some major design flaws</td>\n",
              "      <td>I had such high hopes for this dress and reall...</td>\n",
              "      <td>3</td>\n",
              "      <td>0</td>\n",
              "      <td>0</td>\n",
              "      <td>General</td>\n",
              "      <td>Dresses</td>\n",
              "      <td>Dresses</td>\n",
              "    </tr>\n",
              "    <tr>\n",
              "      <th>3</th>\n",
              "      <td>3</td>\n",
              "      <td>1049</td>\n",
              "      <td>50</td>\n",
              "      <td>My favorite buy!</td>\n",
              "      <td>I love, love, love this jumpsuit. it's fun, fl...</td>\n",
              "      <td>5</td>\n",
              "      <td>1</td>\n",
              "      <td>0</td>\n",
              "      <td>General Petite</td>\n",
              "      <td>Bottoms</td>\n",
              "      <td>Pants</td>\n",
              "    </tr>\n",
              "    <tr>\n",
              "      <th>4</th>\n",
              "      <td>4</td>\n",
              "      <td>847</td>\n",
              "      <td>47</td>\n",
              "      <td>Flattering shirt</td>\n",
              "      <td>This shirt is very flattering to all due to th...</td>\n",
              "      <td>5</td>\n",
              "      <td>1</td>\n",
              "      <td>6</td>\n",
              "      <td>General</td>\n",
              "      <td>Tops</td>\n",
              "      <td>Blouses</td>\n",
              "    </tr>\n",
              "  </tbody>\n",
              "</table>\n",
              "</div>\n",
              "    <div class=\"colab-df-buttons\">\n",
              "\n",
              "  <div class=\"colab-df-container\">\n",
              "    <button class=\"colab-df-convert\" onclick=\"convertToInteractive('df-671a59e5-6606-4f7e-b411-7d9c8f0a46a3')\"\n",
              "            title=\"Convert this dataframe to an interactive table.\"\n",
              "            style=\"display:none;\">\n",
              "\n",
              "  <svg xmlns=\"http://www.w3.org/2000/svg\" height=\"24px\" viewBox=\"0 -960 960 960\">\n",
              "    <path d=\"M120-120v-720h720v720H120Zm60-500h600v-160H180v160Zm220 220h160v-160H400v160Zm0 220h160v-160H400v160ZM180-400h160v-160H180v160Zm440 0h160v-160H620v160ZM180-180h160v-160H180v160Zm440 0h160v-160H620v160Z\"/>\n",
              "  </svg>\n",
              "    </button>\n",
              "\n",
              "  <style>\n",
              "    .colab-df-container {\n",
              "      display:flex;\n",
              "      gap: 12px;\n",
              "    }\n",
              "\n",
              "    .colab-df-convert {\n",
              "      background-color: #E8F0FE;\n",
              "      border: none;\n",
              "      border-radius: 50%;\n",
              "      cursor: pointer;\n",
              "      display: none;\n",
              "      fill: #1967D2;\n",
              "      height: 32px;\n",
              "      padding: 0 0 0 0;\n",
              "      width: 32px;\n",
              "    }\n",
              "\n",
              "    .colab-df-convert:hover {\n",
              "      background-color: #E2EBFA;\n",
              "      box-shadow: 0px 1px 2px rgba(60, 64, 67, 0.3), 0px 1px 3px 1px rgba(60, 64, 67, 0.15);\n",
              "      fill: #174EA6;\n",
              "    }\n",
              "\n",
              "    .colab-df-buttons div {\n",
              "      margin-bottom: 4px;\n",
              "    }\n",
              "\n",
              "    [theme=dark] .colab-df-convert {\n",
              "      background-color: #3B4455;\n",
              "      fill: #D2E3FC;\n",
              "    }\n",
              "\n",
              "    [theme=dark] .colab-df-convert:hover {\n",
              "      background-color: #434B5C;\n",
              "      box-shadow: 0px 1px 3px 1px rgba(0, 0, 0, 0.15);\n",
              "      filter: drop-shadow(0px 1px 2px rgba(0, 0, 0, 0.3));\n",
              "      fill: #FFFFFF;\n",
              "    }\n",
              "  </style>\n",
              "\n",
              "    <script>\n",
              "      const buttonEl =\n",
              "        document.querySelector('#df-671a59e5-6606-4f7e-b411-7d9c8f0a46a3 button.colab-df-convert');\n",
              "      buttonEl.style.display =\n",
              "        google.colab.kernel.accessAllowed ? 'block' : 'none';\n",
              "\n",
              "      async function convertToInteractive(key) {\n",
              "        const element = document.querySelector('#df-671a59e5-6606-4f7e-b411-7d9c8f0a46a3');\n",
              "        const dataTable =\n",
              "          await google.colab.kernel.invokeFunction('convertToInteractive',\n",
              "                                                    [key], {});\n",
              "        if (!dataTable) return;\n",
              "\n",
              "        const docLinkHtml = 'Like what you see? Visit the ' +\n",
              "          '<a target=\"_blank\" href=https://colab.research.google.com/notebooks/data_table.ipynb>data table notebook</a>'\n",
              "          + ' to learn more about interactive tables.';\n",
              "        element.innerHTML = '';\n",
              "        dataTable['output_type'] = 'display_data';\n",
              "        await google.colab.output.renderOutput(dataTable, element);\n",
              "        const docLink = document.createElement('div');\n",
              "        docLink.innerHTML = docLinkHtml;\n",
              "        element.appendChild(docLink);\n",
              "      }\n",
              "    </script>\n",
              "  </div>\n",
              "\n",
              "\n",
              "<div id=\"df-bacf7f6d-231e-46c9-947a-193135fdc575\">\n",
              "  <button class=\"colab-df-quickchart\" onclick=\"quickchart('df-bacf7f6d-231e-46c9-947a-193135fdc575')\"\n",
              "            title=\"Suggest charts\"\n",
              "            style=\"display:none;\">\n",
              "\n",
              "<svg xmlns=\"http://www.w3.org/2000/svg\" height=\"24px\"viewBox=\"0 0 24 24\"\n",
              "     width=\"24px\">\n",
              "    <g>\n",
              "        <path d=\"M19 3H5c-1.1 0-2 .9-2 2v14c0 1.1.9 2 2 2h14c1.1 0 2-.9 2-2V5c0-1.1-.9-2-2-2zM9 17H7v-7h2v7zm4 0h-2V7h2v10zm4 0h-2v-4h2v4z\"/>\n",
              "    </g>\n",
              "</svg>\n",
              "  </button>\n",
              "\n",
              "<style>\n",
              "  .colab-df-quickchart {\n",
              "      --bg-color: #E8F0FE;\n",
              "      --fill-color: #1967D2;\n",
              "      --hover-bg-color: #E2EBFA;\n",
              "      --hover-fill-color: #174EA6;\n",
              "      --disabled-fill-color: #AAA;\n",
              "      --disabled-bg-color: #DDD;\n",
              "  }\n",
              "\n",
              "  [theme=dark] .colab-df-quickchart {\n",
              "      --bg-color: #3B4455;\n",
              "      --fill-color: #D2E3FC;\n",
              "      --hover-bg-color: #434B5C;\n",
              "      --hover-fill-color: #FFFFFF;\n",
              "      --disabled-bg-color: #3B4455;\n",
              "      --disabled-fill-color: #666;\n",
              "  }\n",
              "\n",
              "  .colab-df-quickchart {\n",
              "    background-color: var(--bg-color);\n",
              "    border: none;\n",
              "    border-radius: 50%;\n",
              "    cursor: pointer;\n",
              "    display: none;\n",
              "    fill: var(--fill-color);\n",
              "    height: 32px;\n",
              "    padding: 0;\n",
              "    width: 32px;\n",
              "  }\n",
              "\n",
              "  .colab-df-quickchart:hover {\n",
              "    background-color: var(--hover-bg-color);\n",
              "    box-shadow: 0 1px 2px rgba(60, 64, 67, 0.3), 0 1px 3px 1px rgba(60, 64, 67, 0.15);\n",
              "    fill: var(--button-hover-fill-color);\n",
              "  }\n",
              "\n",
              "  .colab-df-quickchart-complete:disabled,\n",
              "  .colab-df-quickchart-complete:disabled:hover {\n",
              "    background-color: var(--disabled-bg-color);\n",
              "    fill: var(--disabled-fill-color);\n",
              "    box-shadow: none;\n",
              "  }\n",
              "\n",
              "  .colab-df-spinner {\n",
              "    border: 2px solid var(--fill-color);\n",
              "    border-color: transparent;\n",
              "    border-bottom-color: var(--fill-color);\n",
              "    animation:\n",
              "      spin 1s steps(1) infinite;\n",
              "  }\n",
              "\n",
              "  @keyframes spin {\n",
              "    0% {\n",
              "      border-color: transparent;\n",
              "      border-bottom-color: var(--fill-color);\n",
              "      border-left-color: var(--fill-color);\n",
              "    }\n",
              "    20% {\n",
              "      border-color: transparent;\n",
              "      border-left-color: var(--fill-color);\n",
              "      border-top-color: var(--fill-color);\n",
              "    }\n",
              "    30% {\n",
              "      border-color: transparent;\n",
              "      border-left-color: var(--fill-color);\n",
              "      border-top-color: var(--fill-color);\n",
              "      border-right-color: var(--fill-color);\n",
              "    }\n",
              "    40% {\n",
              "      border-color: transparent;\n",
              "      border-right-color: var(--fill-color);\n",
              "      border-top-color: var(--fill-color);\n",
              "    }\n",
              "    60% {\n",
              "      border-color: transparent;\n",
              "      border-right-color: var(--fill-color);\n",
              "    }\n",
              "    80% {\n",
              "      border-color: transparent;\n",
              "      border-right-color: var(--fill-color);\n",
              "      border-bottom-color: var(--fill-color);\n",
              "    }\n",
              "    90% {\n",
              "      border-color: transparent;\n",
              "      border-bottom-color: var(--fill-color);\n",
              "    }\n",
              "  }\n",
              "</style>\n",
              "\n",
              "  <script>\n",
              "    async function quickchart(key) {\n",
              "      const quickchartButtonEl =\n",
              "        document.querySelector('#' + key + ' button');\n",
              "      quickchartButtonEl.disabled = true;  // To prevent multiple clicks.\n",
              "      quickchartButtonEl.classList.add('colab-df-spinner');\n",
              "      try {\n",
              "        const charts = await google.colab.kernel.invokeFunction(\n",
              "            'suggestCharts', [key], {});\n",
              "      } catch (error) {\n",
              "        console.error('Error during call to suggestCharts:', error);\n",
              "      }\n",
              "      quickchartButtonEl.classList.remove('colab-df-spinner');\n",
              "      quickchartButtonEl.classList.add('colab-df-quickchart-complete');\n",
              "    }\n",
              "    (() => {\n",
              "      let quickchartButtonEl =\n",
              "        document.querySelector('#df-bacf7f6d-231e-46c9-947a-193135fdc575 button');\n",
              "      quickchartButtonEl.style.display =\n",
              "        google.colab.kernel.accessAllowed ? 'block' : 'none';\n",
              "    })();\n",
              "  </script>\n",
              "</div>\n",
              "\n",
              "    </div>\n",
              "  </div>\n"
            ],
            "application/vnd.google.colaboratory.intrinsic+json": {
              "type": "dataframe",
              "variable_name": "df",
              "summary": "{\n  \"name\": \"df\",\n  \"rows\": 23486,\n  \"fields\": [\n    {\n      \"column\": \"Unnamed: 0\",\n      \"properties\": {\n        \"dtype\": \"number\",\n        \"std\": 6779,\n        \"min\": 0,\n        \"max\": 23485,\n        \"num_unique_values\": 23486,\n        \"samples\": [\n          1297,\n          7228,\n          21410\n        ],\n        \"semantic_type\": \"\",\n        \"description\": \"\"\n      }\n    },\n    {\n      \"column\": \"Clothing ID\",\n      \"properties\": {\n        \"dtype\": \"number\",\n        \"std\": 203,\n        \"min\": 0,\n        \"max\": 1205,\n        \"num_unique_values\": 1206,\n        \"samples\": [\n          835,\n          753,\n          93\n        ],\n        \"semantic_type\": \"\",\n        \"description\": \"\"\n      }\n    },\n    {\n      \"column\": \"Age\",\n      \"properties\": {\n        \"dtype\": \"number\",\n        \"std\": 12,\n        \"min\": 18,\n        \"max\": 99,\n        \"num_unique_values\": 77,\n        \"samples\": [\n          47,\n          62,\n          41\n        ],\n        \"semantic_type\": \"\",\n        \"description\": \"\"\n      }\n    },\n    {\n      \"column\": \"Title\",\n      \"properties\": {\n        \"dtype\": \"string\",\n        \"num_unique_values\": 13993,\n        \"samples\": [\n          \"Colorful, pretty shirt\",\n          \"Unique soft and comfy fall top\",\n          \"Great fitting jean.\"\n        ],\n        \"semantic_type\": \"\",\n        \"description\": \"\"\n      }\n    },\n    {\n      \"column\": \"Review Text\",\n      \"properties\": {\n        \"dtype\": \"string\",\n        \"num_unique_values\": 22634,\n        \"samples\": [\n          \"This top is really pretty and nice quality. runs big - i went down a size, and its perfect. coloring is more subtle in person than in the photo.\",\n          \"I was so excited to splurge on a mara hoffman suit and was sorely disappointed when i received this suit in the mail. i'm petite and fairly curvy, so i knew it would likely be a little long in the torso but the whole suit was so oddly shaped, i couldn't imagine anyone it would fit. the square shape in between the halter pieces is awkward, and the pieces that are supposed to hold your chest are super wide and loose.\",\n          \"Got so many complements! really comfy but runs big! i'm usually a large and i wish i had gotten the small.\"\n        ],\n        \"semantic_type\": \"\",\n        \"description\": \"\"\n      }\n    },\n    {\n      \"column\": \"Rating\",\n      \"properties\": {\n        \"dtype\": \"number\",\n        \"std\": 1,\n        \"min\": 1,\n        \"max\": 5,\n        \"num_unique_values\": 5,\n        \"samples\": [\n          5,\n          1,\n          3\n        ],\n        \"semantic_type\": \"\",\n        \"description\": \"\"\n      }\n    },\n    {\n      \"column\": \"Recommended IND\",\n      \"properties\": {\n        \"dtype\": \"number\",\n        \"std\": 0,\n        \"min\": 0,\n        \"max\": 1,\n        \"num_unique_values\": 2,\n        \"samples\": [\n          0,\n          1\n        ],\n        \"semantic_type\": \"\",\n        \"description\": \"\"\n      }\n    },\n    {\n      \"column\": \"Positive Feedback Count\",\n      \"properties\": {\n        \"dtype\": \"number\",\n        \"std\": 5,\n        \"min\": 0,\n        \"max\": 122,\n        \"num_unique_values\": 82,\n        \"samples\": [\n          21,\n          0\n        ],\n        \"semantic_type\": \"\",\n        \"description\": \"\"\n      }\n    },\n    {\n      \"column\": \"Division Name\",\n      \"properties\": {\n        \"dtype\": \"category\",\n        \"num_unique_values\": 3,\n        \"samples\": [\n          \"Initmates\",\n          \"General\"\n        ],\n        \"semantic_type\": \"\",\n        \"description\": \"\"\n      }\n    },\n    {\n      \"column\": \"Department Name\",\n      \"properties\": {\n        \"dtype\": \"category\",\n        \"num_unique_values\": 6,\n        \"samples\": [\n          \"Intimate\",\n          \"Dresses\"\n        ],\n        \"semantic_type\": \"\",\n        \"description\": \"\"\n      }\n    },\n    {\n      \"column\": \"Class Name\",\n      \"properties\": {\n        \"dtype\": \"category\",\n        \"num_unique_values\": 20,\n        \"samples\": [\n          \"Intimates\",\n          \"Layering\"\n        ],\n        \"semantic_type\": \"\",\n        \"description\": \"\"\n      }\n    }\n  ]\n}"
            }
          },
          "metadata": {},
          "execution_count": 2
        }
      ]
    },
    {
      "cell_type": "code",
      "source": [
        "#Creating a backup dataframe\n",
        "df_backup = df.copy()"
      ],
      "metadata": {
        "id": "ccyNKyeoAX1d"
      },
      "execution_count": null,
      "outputs": []
    },
    {
      "cell_type": "code",
      "source": [
        "# Step 4: Dropping unnecessary columns\n",
        "columns_to_drop = ['Unnamed: 0', 'Clothing ID', 'Title']\n",
        "df = df.drop(columns=columns_to_drop)"
      ],
      "metadata": {
        "id": "_0tU1BpCBXJn"
      },
      "execution_count": null,
      "outputs": []
    },
    {
      "cell_type": "code",
      "source": [
        "df.head()"
      ],
      "metadata": {
        "id": "miTBWJiQCCjZ",
        "colab": {
          "base_uri": "https://localhost:8080/",
          "height": 206
        },
        "outputId": "da99244f-272c-4ba6-ec37-8188d8bc7361"
      },
      "execution_count": null,
      "outputs": [
        {
          "output_type": "execute_result",
          "data": {
            "text/plain": [
              "   Age                                        Review Text  Rating  \\\n",
              "0   33  Absolutely wonderful - silky and sexy and comf...       4   \n",
              "1   34  Love this dress!  it's sooo pretty.  i happene...       5   \n",
              "2   60  I had such high hopes for this dress and reall...       3   \n",
              "3   50  I love, love, love this jumpsuit. it's fun, fl...       5   \n",
              "4   47  This shirt is very flattering to all due to th...       5   \n",
              "\n",
              "   Recommended IND  Positive Feedback Count   Division Name Department Name  \\\n",
              "0                1                        0       Initmates        Intimate   \n",
              "1                1                        4         General         Dresses   \n",
              "2                0                        0         General         Dresses   \n",
              "3                1                        0  General Petite         Bottoms   \n",
              "4                1                        6         General            Tops   \n",
              "\n",
              "  Class Name  \n",
              "0  Intimates  \n",
              "1    Dresses  \n",
              "2    Dresses  \n",
              "3      Pants  \n",
              "4    Blouses  "
            ],
            "text/html": [
              "\n",
              "  <div id=\"df-529b325f-d36d-4800-a263-3d651c447ad3\" class=\"colab-df-container\">\n",
              "    <div>\n",
              "<style scoped>\n",
              "    .dataframe tbody tr th:only-of-type {\n",
              "        vertical-align: middle;\n",
              "    }\n",
              "\n",
              "    .dataframe tbody tr th {\n",
              "        vertical-align: top;\n",
              "    }\n",
              "\n",
              "    .dataframe thead th {\n",
              "        text-align: right;\n",
              "    }\n",
              "</style>\n",
              "<table border=\"1\" class=\"dataframe\">\n",
              "  <thead>\n",
              "    <tr style=\"text-align: right;\">\n",
              "      <th></th>\n",
              "      <th>Age</th>\n",
              "      <th>Review Text</th>\n",
              "      <th>Rating</th>\n",
              "      <th>Recommended IND</th>\n",
              "      <th>Positive Feedback Count</th>\n",
              "      <th>Division Name</th>\n",
              "      <th>Department Name</th>\n",
              "      <th>Class Name</th>\n",
              "    </tr>\n",
              "  </thead>\n",
              "  <tbody>\n",
              "    <tr>\n",
              "      <th>0</th>\n",
              "      <td>33</td>\n",
              "      <td>Absolutely wonderful - silky and sexy and comf...</td>\n",
              "      <td>4</td>\n",
              "      <td>1</td>\n",
              "      <td>0</td>\n",
              "      <td>Initmates</td>\n",
              "      <td>Intimate</td>\n",
              "      <td>Intimates</td>\n",
              "    </tr>\n",
              "    <tr>\n",
              "      <th>1</th>\n",
              "      <td>34</td>\n",
              "      <td>Love this dress!  it's sooo pretty.  i happene...</td>\n",
              "      <td>5</td>\n",
              "      <td>1</td>\n",
              "      <td>4</td>\n",
              "      <td>General</td>\n",
              "      <td>Dresses</td>\n",
              "      <td>Dresses</td>\n",
              "    </tr>\n",
              "    <tr>\n",
              "      <th>2</th>\n",
              "      <td>60</td>\n",
              "      <td>I had such high hopes for this dress and reall...</td>\n",
              "      <td>3</td>\n",
              "      <td>0</td>\n",
              "      <td>0</td>\n",
              "      <td>General</td>\n",
              "      <td>Dresses</td>\n",
              "      <td>Dresses</td>\n",
              "    </tr>\n",
              "    <tr>\n",
              "      <th>3</th>\n",
              "      <td>50</td>\n",
              "      <td>I love, love, love this jumpsuit. it's fun, fl...</td>\n",
              "      <td>5</td>\n",
              "      <td>1</td>\n",
              "      <td>0</td>\n",
              "      <td>General Petite</td>\n",
              "      <td>Bottoms</td>\n",
              "      <td>Pants</td>\n",
              "    </tr>\n",
              "    <tr>\n",
              "      <th>4</th>\n",
              "      <td>47</td>\n",
              "      <td>This shirt is very flattering to all due to th...</td>\n",
              "      <td>5</td>\n",
              "      <td>1</td>\n",
              "      <td>6</td>\n",
              "      <td>General</td>\n",
              "      <td>Tops</td>\n",
              "      <td>Blouses</td>\n",
              "    </tr>\n",
              "  </tbody>\n",
              "</table>\n",
              "</div>\n",
              "    <div class=\"colab-df-buttons\">\n",
              "\n",
              "  <div class=\"colab-df-container\">\n",
              "    <button class=\"colab-df-convert\" onclick=\"convertToInteractive('df-529b325f-d36d-4800-a263-3d651c447ad3')\"\n",
              "            title=\"Convert this dataframe to an interactive table.\"\n",
              "            style=\"display:none;\">\n",
              "\n",
              "  <svg xmlns=\"http://www.w3.org/2000/svg\" height=\"24px\" viewBox=\"0 -960 960 960\">\n",
              "    <path d=\"M120-120v-720h720v720H120Zm60-500h600v-160H180v160Zm220 220h160v-160H400v160Zm0 220h160v-160H400v160ZM180-400h160v-160H180v160Zm440 0h160v-160H620v160ZM180-180h160v-160H180v160Zm440 0h160v-160H620v160Z\"/>\n",
              "  </svg>\n",
              "    </button>\n",
              "\n",
              "  <style>\n",
              "    .colab-df-container {\n",
              "      display:flex;\n",
              "      gap: 12px;\n",
              "    }\n",
              "\n",
              "    .colab-df-convert {\n",
              "      background-color: #E8F0FE;\n",
              "      border: none;\n",
              "      border-radius: 50%;\n",
              "      cursor: pointer;\n",
              "      display: none;\n",
              "      fill: #1967D2;\n",
              "      height: 32px;\n",
              "      padding: 0 0 0 0;\n",
              "      width: 32px;\n",
              "    }\n",
              "\n",
              "    .colab-df-convert:hover {\n",
              "      background-color: #E2EBFA;\n",
              "      box-shadow: 0px 1px 2px rgba(60, 64, 67, 0.3), 0px 1px 3px 1px rgba(60, 64, 67, 0.15);\n",
              "      fill: #174EA6;\n",
              "    }\n",
              "\n",
              "    .colab-df-buttons div {\n",
              "      margin-bottom: 4px;\n",
              "    }\n",
              "\n",
              "    [theme=dark] .colab-df-convert {\n",
              "      background-color: #3B4455;\n",
              "      fill: #D2E3FC;\n",
              "    }\n",
              "\n",
              "    [theme=dark] .colab-df-convert:hover {\n",
              "      background-color: #434B5C;\n",
              "      box-shadow: 0px 1px 3px 1px rgba(0, 0, 0, 0.15);\n",
              "      filter: drop-shadow(0px 1px 2px rgba(0, 0, 0, 0.3));\n",
              "      fill: #FFFFFF;\n",
              "    }\n",
              "  </style>\n",
              "\n",
              "    <script>\n",
              "      const buttonEl =\n",
              "        document.querySelector('#df-529b325f-d36d-4800-a263-3d651c447ad3 button.colab-df-convert');\n",
              "      buttonEl.style.display =\n",
              "        google.colab.kernel.accessAllowed ? 'block' : 'none';\n",
              "\n",
              "      async function convertToInteractive(key) {\n",
              "        const element = document.querySelector('#df-529b325f-d36d-4800-a263-3d651c447ad3');\n",
              "        const dataTable =\n",
              "          await google.colab.kernel.invokeFunction('convertToInteractive',\n",
              "                                                    [key], {});\n",
              "        if (!dataTable) return;\n",
              "\n",
              "        const docLinkHtml = 'Like what you see? Visit the ' +\n",
              "          '<a target=\"_blank\" href=https://colab.research.google.com/notebooks/data_table.ipynb>data table notebook</a>'\n",
              "          + ' to learn more about interactive tables.';\n",
              "        element.innerHTML = '';\n",
              "        dataTable['output_type'] = 'display_data';\n",
              "        await google.colab.output.renderOutput(dataTable, element);\n",
              "        const docLink = document.createElement('div');\n",
              "        docLink.innerHTML = docLinkHtml;\n",
              "        element.appendChild(docLink);\n",
              "      }\n",
              "    </script>\n",
              "  </div>\n",
              "\n",
              "\n",
              "<div id=\"df-733a4356-5c3e-44de-82c7-a8c1792b2ef7\">\n",
              "  <button class=\"colab-df-quickchart\" onclick=\"quickchart('df-733a4356-5c3e-44de-82c7-a8c1792b2ef7')\"\n",
              "            title=\"Suggest charts\"\n",
              "            style=\"display:none;\">\n",
              "\n",
              "<svg xmlns=\"http://www.w3.org/2000/svg\" height=\"24px\"viewBox=\"0 0 24 24\"\n",
              "     width=\"24px\">\n",
              "    <g>\n",
              "        <path d=\"M19 3H5c-1.1 0-2 .9-2 2v14c0 1.1.9 2 2 2h14c1.1 0 2-.9 2-2V5c0-1.1-.9-2-2-2zM9 17H7v-7h2v7zm4 0h-2V7h2v10zm4 0h-2v-4h2v4z\"/>\n",
              "    </g>\n",
              "</svg>\n",
              "  </button>\n",
              "\n",
              "<style>\n",
              "  .colab-df-quickchart {\n",
              "      --bg-color: #E8F0FE;\n",
              "      --fill-color: #1967D2;\n",
              "      --hover-bg-color: #E2EBFA;\n",
              "      --hover-fill-color: #174EA6;\n",
              "      --disabled-fill-color: #AAA;\n",
              "      --disabled-bg-color: #DDD;\n",
              "  }\n",
              "\n",
              "  [theme=dark] .colab-df-quickchart {\n",
              "      --bg-color: #3B4455;\n",
              "      --fill-color: #D2E3FC;\n",
              "      --hover-bg-color: #434B5C;\n",
              "      --hover-fill-color: #FFFFFF;\n",
              "      --disabled-bg-color: #3B4455;\n",
              "      --disabled-fill-color: #666;\n",
              "  }\n",
              "\n",
              "  .colab-df-quickchart {\n",
              "    background-color: var(--bg-color);\n",
              "    border: none;\n",
              "    border-radius: 50%;\n",
              "    cursor: pointer;\n",
              "    display: none;\n",
              "    fill: var(--fill-color);\n",
              "    height: 32px;\n",
              "    padding: 0;\n",
              "    width: 32px;\n",
              "  }\n",
              "\n",
              "  .colab-df-quickchart:hover {\n",
              "    background-color: var(--hover-bg-color);\n",
              "    box-shadow: 0 1px 2px rgba(60, 64, 67, 0.3), 0 1px 3px 1px rgba(60, 64, 67, 0.15);\n",
              "    fill: var(--button-hover-fill-color);\n",
              "  }\n",
              "\n",
              "  .colab-df-quickchart-complete:disabled,\n",
              "  .colab-df-quickchart-complete:disabled:hover {\n",
              "    background-color: var(--disabled-bg-color);\n",
              "    fill: var(--disabled-fill-color);\n",
              "    box-shadow: none;\n",
              "  }\n",
              "\n",
              "  .colab-df-spinner {\n",
              "    border: 2px solid var(--fill-color);\n",
              "    border-color: transparent;\n",
              "    border-bottom-color: var(--fill-color);\n",
              "    animation:\n",
              "      spin 1s steps(1) infinite;\n",
              "  }\n",
              "\n",
              "  @keyframes spin {\n",
              "    0% {\n",
              "      border-color: transparent;\n",
              "      border-bottom-color: var(--fill-color);\n",
              "      border-left-color: var(--fill-color);\n",
              "    }\n",
              "    20% {\n",
              "      border-color: transparent;\n",
              "      border-left-color: var(--fill-color);\n",
              "      border-top-color: var(--fill-color);\n",
              "    }\n",
              "    30% {\n",
              "      border-color: transparent;\n",
              "      border-left-color: var(--fill-color);\n",
              "      border-top-color: var(--fill-color);\n",
              "      border-right-color: var(--fill-color);\n",
              "    }\n",
              "    40% {\n",
              "      border-color: transparent;\n",
              "      border-right-color: var(--fill-color);\n",
              "      border-top-color: var(--fill-color);\n",
              "    }\n",
              "    60% {\n",
              "      border-color: transparent;\n",
              "      border-right-color: var(--fill-color);\n",
              "    }\n",
              "    80% {\n",
              "      border-color: transparent;\n",
              "      border-right-color: var(--fill-color);\n",
              "      border-bottom-color: var(--fill-color);\n",
              "    }\n",
              "    90% {\n",
              "      border-color: transparent;\n",
              "      border-bottom-color: var(--fill-color);\n",
              "    }\n",
              "  }\n",
              "</style>\n",
              "\n",
              "  <script>\n",
              "    async function quickchart(key) {\n",
              "      const quickchartButtonEl =\n",
              "        document.querySelector('#' + key + ' button');\n",
              "      quickchartButtonEl.disabled = true;  // To prevent multiple clicks.\n",
              "      quickchartButtonEl.classList.add('colab-df-spinner');\n",
              "      try {\n",
              "        const charts = await google.colab.kernel.invokeFunction(\n",
              "            'suggestCharts', [key], {});\n",
              "      } catch (error) {\n",
              "        console.error('Error during call to suggestCharts:', error);\n",
              "      }\n",
              "      quickchartButtonEl.classList.remove('colab-df-spinner');\n",
              "      quickchartButtonEl.classList.add('colab-df-quickchart-complete');\n",
              "    }\n",
              "    (() => {\n",
              "      let quickchartButtonEl =\n",
              "        document.querySelector('#df-733a4356-5c3e-44de-82c7-a8c1792b2ef7 button');\n",
              "      quickchartButtonEl.style.display =\n",
              "        google.colab.kernel.accessAllowed ? 'block' : 'none';\n",
              "    })();\n",
              "  </script>\n",
              "</div>\n",
              "\n",
              "    </div>\n",
              "  </div>\n"
            ],
            "application/vnd.google.colaboratory.intrinsic+json": {
              "type": "dataframe",
              "variable_name": "df",
              "summary": "{\n  \"name\": \"df\",\n  \"rows\": 23486,\n  \"fields\": [\n    {\n      \"column\": \"Age\",\n      \"properties\": {\n        \"dtype\": \"number\",\n        \"std\": 12,\n        \"min\": 18,\n        \"max\": 99,\n        \"num_unique_values\": 77,\n        \"samples\": [\n          47,\n          62,\n          41\n        ],\n        \"semantic_type\": \"\",\n        \"description\": \"\"\n      }\n    },\n    {\n      \"column\": \"Review Text\",\n      \"properties\": {\n        \"dtype\": \"string\",\n        \"num_unique_values\": 22634,\n        \"samples\": [\n          \"This top is really pretty and nice quality. runs big - i went down a size, and its perfect. coloring is more subtle in person than in the photo.\",\n          \"I was so excited to splurge on a mara hoffman suit and was sorely disappointed when i received this suit in the mail. i'm petite and fairly curvy, so i knew it would likely be a little long in the torso but the whole suit was so oddly shaped, i couldn't imagine anyone it would fit. the square shape in between the halter pieces is awkward, and the pieces that are supposed to hold your chest are super wide and loose.\",\n          \"Got so many complements! really comfy but runs big! i'm usually a large and i wish i had gotten the small.\"\n        ],\n        \"semantic_type\": \"\",\n        \"description\": \"\"\n      }\n    },\n    {\n      \"column\": \"Rating\",\n      \"properties\": {\n        \"dtype\": \"number\",\n        \"std\": 1,\n        \"min\": 1,\n        \"max\": 5,\n        \"num_unique_values\": 5,\n        \"samples\": [\n          5,\n          1,\n          3\n        ],\n        \"semantic_type\": \"\",\n        \"description\": \"\"\n      }\n    },\n    {\n      \"column\": \"Recommended IND\",\n      \"properties\": {\n        \"dtype\": \"number\",\n        \"std\": 0,\n        \"min\": 0,\n        \"max\": 1,\n        \"num_unique_values\": 2,\n        \"samples\": [\n          0,\n          1\n        ],\n        \"semantic_type\": \"\",\n        \"description\": \"\"\n      }\n    },\n    {\n      \"column\": \"Positive Feedback Count\",\n      \"properties\": {\n        \"dtype\": \"number\",\n        \"std\": 5,\n        \"min\": 0,\n        \"max\": 122,\n        \"num_unique_values\": 82,\n        \"samples\": [\n          21,\n          0\n        ],\n        \"semantic_type\": \"\",\n        \"description\": \"\"\n      }\n    },\n    {\n      \"column\": \"Division Name\",\n      \"properties\": {\n        \"dtype\": \"category\",\n        \"num_unique_values\": 3,\n        \"samples\": [\n          \"Initmates\",\n          \"General\"\n        ],\n        \"semantic_type\": \"\",\n        \"description\": \"\"\n      }\n    },\n    {\n      \"column\": \"Department Name\",\n      \"properties\": {\n        \"dtype\": \"category\",\n        \"num_unique_values\": 6,\n        \"samples\": [\n          \"Intimate\",\n          \"Dresses\"\n        ],\n        \"semantic_type\": \"\",\n        \"description\": \"\"\n      }\n    },\n    {\n      \"column\": \"Class Name\",\n      \"properties\": {\n        \"dtype\": \"category\",\n        \"num_unique_values\": 20,\n        \"samples\": [\n          \"Intimates\",\n          \"Layering\"\n        ],\n        \"semantic_type\": \"\",\n        \"description\": \"\"\n      }\n    }\n  ]\n}"
            }
          },
          "metadata": {},
          "execution_count": 5
        }
      ]
    },
    {
      "cell_type": "code",
      "source": [
        "# Step 5: Handle missing values\n",
        "# Dropping rows with missing values in the 'Review Text' column\n",
        "df = df.dropna(subset=['Review Text'])"
      ],
      "metadata": {
        "id": "Yj-IG0hcCKj8"
      },
      "execution_count": null,
      "outputs": []
    },
    {
      "cell_type": "code",
      "source": [
        "df.isnull().sum()"
      ],
      "metadata": {
        "id": "oFSCYhSvC3ID",
        "colab": {
          "base_uri": "https://localhost:8080/"
        },
        "outputId": "03340cc1-9331-42c9-ca1c-64ec6e82dae9"
      },
      "execution_count": null,
      "outputs": [
        {
          "output_type": "execute_result",
          "data": {
            "text/plain": [
              "Age                         0\n",
              "Review Text                 0\n",
              "Rating                      0\n",
              "Recommended IND             0\n",
              "Positive Feedback Count     0\n",
              "Division Name              13\n",
              "Department Name            13\n",
              "Class Name                 13\n",
              "dtype: int64"
            ]
          },
          "metadata": {},
          "execution_count": 7
        }
      ]
    },
    {
      "cell_type": "code",
      "source": [
        "df = df.dropna()"
      ],
      "metadata": {
        "id": "1d_MF4UHDCoA"
      },
      "execution_count": null,
      "outputs": []
    },
    {
      "cell_type": "code",
      "source": [
        "df.info()"
      ],
      "metadata": {
        "id": "L_UdxfnYDVHS",
        "colab": {
          "base_uri": "https://localhost:8080/"
        },
        "outputId": "eea20a8f-bc7a-4519-ec72-622baee5dc33"
      },
      "execution_count": null,
      "outputs": [
        {
          "output_type": "stream",
          "name": "stdout",
          "text": [
            "<class 'pandas.core.frame.DataFrame'>\n",
            "Index: 22628 entries, 0 to 23485\n",
            "Data columns (total 8 columns):\n",
            " #   Column                   Non-Null Count  Dtype \n",
            "---  ------                   --------------  ----- \n",
            " 0   Age                      22628 non-null  int64 \n",
            " 1   Review Text              22628 non-null  object\n",
            " 2   Rating                   22628 non-null  int64 \n",
            " 3   Recommended IND          22628 non-null  int64 \n",
            " 4   Positive Feedback Count  22628 non-null  int64 \n",
            " 5   Division Name            22628 non-null  object\n",
            " 6   Department Name          22628 non-null  object\n",
            " 7   Class Name               22628 non-null  object\n",
            "dtypes: int64(4), object(4)\n",
            "memory usage: 1.6+ MB\n"
          ]
        }
      ]
    },
    {
      "cell_type": "code",
      "source": [
        "from sklearn.preprocessing import LabelEncoder\n",
        "\n",
        "#Storing the encoded variables in a different variable names so that We can retain the original\n",
        "# Initialize LabelEncoder\n",
        "label_encoder = LabelEncoder()\n",
        "\n",
        "# Apply LabelEncoder to each categorical column\n",
        "df['Division Name Encoded'] = label_encoder.fit_transform(df['Division Name'])\n",
        "df['Department Name Encoded'] = label_encoder.fit_transform(df['Department Name'])\n",
        "df['Class Name Encoded'] = label_encoder.fit_transform(df['Class Name'])\n",
        "\n",
        "# Display the first few rows of the dataframe after label encoding\n",
        "print(\"Label Encoded DataFrame:\")\n",
        "print(df.head())"
      ],
      "metadata": {
        "id": "HhCJdYCaEJdL",
        "colab": {
          "base_uri": "https://localhost:8080/"
        },
        "outputId": "87b4bbab-cfdf-4e4b-f8cf-8e4eba4d033c"
      },
      "execution_count": null,
      "outputs": [
        {
          "output_type": "stream",
          "name": "stdout",
          "text": [
            "Label Encoded DataFrame:\n",
            "   Age                                        Review Text  Rating  \\\n",
            "0   33  Absolutely wonderful - silky and sexy and comf...       4   \n",
            "1   34  Love this dress!  it's sooo pretty.  i happene...       5   \n",
            "2   60  I had such high hopes for this dress and reall...       3   \n",
            "3   50  I love, love, love this jumpsuit. it's fun, fl...       5   \n",
            "4   47  This shirt is very flattering to all due to th...       5   \n",
            "\n",
            "   Recommended IND  Positive Feedback Count   Division Name Department Name  \\\n",
            "0                1                        0       Initmates        Intimate   \n",
            "1                1                        4         General         Dresses   \n",
            "2                0                        0         General         Dresses   \n",
            "3                1                        0  General Petite         Bottoms   \n",
            "4                1                        6         General            Tops   \n",
            "\n",
            "  Class Name  Division Name Encoded  Department Name Encoded  \\\n",
            "0  Intimates                      2                        2   \n",
            "1    Dresses                      0                        1   \n",
            "2    Dresses                      0                        1   \n",
            "3      Pants                      1                        0   \n",
            "4    Blouses                      0                        4   \n",
            "\n",
            "   Class Name Encoded  \n",
            "0                   5  \n",
            "1                   3  \n",
            "2                   3  \n",
            "3                  13  \n",
            "4                   0  \n"
          ]
        }
      ]
    },
    {
      "cell_type": "code",
      "source": [
        "df.info()"
      ],
      "metadata": {
        "id": "hOSQN9F0Ff5R",
        "colab": {
          "base_uri": "https://localhost:8080/"
        },
        "outputId": "726a7603-26ac-4ec9-dfbd-eecae014d975"
      },
      "execution_count": null,
      "outputs": [
        {
          "output_type": "stream",
          "name": "stdout",
          "text": [
            "<class 'pandas.core.frame.DataFrame'>\n",
            "Index: 22628 entries, 0 to 23485\n",
            "Data columns (total 11 columns):\n",
            " #   Column                   Non-Null Count  Dtype \n",
            "---  ------                   --------------  ----- \n",
            " 0   Age                      22628 non-null  int64 \n",
            " 1   Review Text              22628 non-null  object\n",
            " 2   Rating                   22628 non-null  int64 \n",
            " 3   Recommended IND          22628 non-null  int64 \n",
            " 4   Positive Feedback Count  22628 non-null  int64 \n",
            " 5   Division Name            22628 non-null  object\n",
            " 6   Department Name          22628 non-null  object\n",
            " 7   Class Name               22628 non-null  object\n",
            " 8   Division Name Encoded    22628 non-null  int64 \n",
            " 9   Department Name Encoded  22628 non-null  int64 \n",
            " 10  Class Name Encoded       22628 non-null  int64 \n",
            "dtypes: int64(7), object(4)\n",
            "memory usage: 2.1+ MB\n"
          ]
        }
      ]
    },
    {
      "cell_type": "code",
      "source": [
        "#Preprocessing the ReviewText\n",
        "\n",
        "import re\n",
        "import string\n",
        "from nltk.corpus import stopwords\n",
        "from nltk.stem import PorterStemmer, WordNetLemmatizer\n",
        "\n",
        "import nltk\n",
        "nltk.download('stopwords')\n",
        "nltk.download('wordnet')\n",
        "\n",
        "def clean_text(text):\n",
        "   # Lowercase the text\n",
        "    text = text.lower()\n",
        "\n",
        "    # Remove digits\n",
        "    text = re.sub(r'\\d+', '', text)\n",
        "\n",
        "    # Remove punctuation\n",
        "    PUNCT_TO_REMOVE = string.punctuation\n",
        "    text = ' '.join(text.translate(str.maketrans('', '', PUNCT_TO_REMOVE)).split())\n",
        "\n",
        "    # Remove stopwords\n",
        "    STOPWORDS = set(stopwords.words('english'))\n",
        "    text = ' '.join([word for word in str(text).split() if word not in STOPWORDS])\n",
        "\n",
        "    # Stem words\n",
        "    stemmer = PorterStemmer()\n",
        "    text = \" \".join([stemmer.stem(word) for word in text.split()])\n",
        "\n",
        "    # Lemmatize words\n",
        "    lemmatizer = WordNetLemmatizer()\n",
        "    text = \" \".join([lemmatizer.lemmatize(word) for word in text.split()])\n",
        "\n",
        "    return text.strip()"
      ],
      "metadata": {
        "id": "7cQZnhDFFprR",
        "colab": {
          "base_uri": "https://localhost:8080/"
        },
        "outputId": "5416b0de-c9fd-4e67-a5ad-8a8064a04b04"
      },
      "execution_count": null,
      "outputs": [
        {
          "output_type": "stream",
          "name": "stderr",
          "text": [
            "[nltk_data] Downloading package stopwords to /root/nltk_data...\n",
            "[nltk_data]   Unzipping corpora/stopwords.zip.\n",
            "[nltk_data] Downloading package wordnet to /root/nltk_data...\n"
          ]
        }
      ]
    },
    {
      "cell_type": "code",
      "source": [
        "df['Cleaned Review Text'] = df['Review Text'].apply(clean_text)"
      ],
      "metadata": {
        "id": "98hHaMNvJvcW"
      },
      "execution_count": null,
      "outputs": []
    },
    {
      "cell_type": "code",
      "source": [
        "print(df[['Cleaned Review Text']].head())"
      ],
      "metadata": {
        "id": "PUtfOzBcJwtJ",
        "colab": {
          "base_uri": "https://localhost:8080/"
        },
        "outputId": "9a270eb8-9f82-41d5-a3ae-dd65c212bffb"
      },
      "execution_count": null,
      "outputs": [
        {
          "output_type": "stream",
          "name": "stdout",
          "text": [
            "                                 Cleaned Review Text\n",
            "0                  absolut wonder silki sexi comfort\n",
            "1  love dress sooo pretti happen find store im gl...\n",
            "2  high hope dress realli want work initi order p...\n",
            "3  love love love jumpsuit fun flirti fabul everi...\n",
            "4  shirt flatter due adjust front tie perfect len...\n"
          ]
        }
      ]
    },
    {
      "cell_type": "code",
      "source": [
        "from sklearn.feature_extraction.text import TfidfVectorizer\n",
        "\n",
        "# Assuming 'df' is your existing dataframe\n",
        "df['Keywords'] = ''\n",
        "\n",
        "def extract_keywords(text):\n",
        "    # Create TF-IDF vectorizer\n",
        "    tfidf_vectorizer = TfidfVectorizer(max_features=10)  # Set max_features to the number of keywords you want\n",
        "\n",
        "    # Fit-transform the preprocessed text\n",
        "    tfidf_matrix = tfidf_vectorizer.fit_transform([text])\n",
        "\n",
        "    # Get feature names (keywords)\n",
        "    feature_names = tfidf_vectorizer.get_feature_names_out()\n",
        "\n",
        "    return feature_names\n",
        "\n",
        "# Apply keyword extraction to each row in the dataframe\n",
        "for index, row in df.iterrows():\n",
        "    keywords = extract_keywords(row['Cleaned Review Text'])\n",
        "    df.at[index, 'Keywords'] = ', '.join(keywords)\n",
        "\n"
      ],
      "metadata": {
        "id": "1n_evhcFKuJS"
      },
      "execution_count": null,
      "outputs": []
    },
    {
      "cell_type": "code",
      "source": [
        "# Display the dataframe with extracted keywords\n",
        "print(df.head())"
      ],
      "metadata": {
        "id": "RhTVV5GvNoPh",
        "colab": {
          "base_uri": "https://localhost:8080/"
        },
        "outputId": "b7cbc037-4139-4321-b182-f778b5755146"
      },
      "execution_count": null,
      "outputs": [
        {
          "output_type": "stream",
          "name": "stdout",
          "text": [
            "   Age                                        Review Text  Rating  \\\n",
            "0   33  Absolutely wonderful - silky and sexy and comf...       4   \n",
            "1   34  Love this dress!  it's sooo pretty.  i happene...       5   \n",
            "2   60  I had such high hopes for this dress and reall...       3   \n",
            "3   50  I love, love, love this jumpsuit. it's fun, fl...       5   \n",
            "4   47  This shirt is very flattering to all due to th...       5   \n",
            "\n",
            "   Recommended IND  Positive Feedback Count   Division Name Department Name  \\\n",
            "0                1                        0       Initmates        Intimate   \n",
            "1                1                        4         General         Dresses   \n",
            "2                0                        0         General         Dresses   \n",
            "3                1                        0  General Petite         Bottoms   \n",
            "4                1                        6         General            Tops   \n",
            "\n",
            "  Class Name  Division Name Encoded  Department Name Encoded  \\\n",
            "0  Intimates                      2                        2   \n",
            "1    Dresses                      0                        1   \n",
            "2    Dresses                      0                        1   \n",
            "3      Pants                      1                        0   \n",
            "4    Blouses                      0                        4   \n",
            "\n",
            "   Class Name Encoded                                Cleaned Review Text  \\\n",
            "0                   5                  absolut wonder silki sexi comfort   \n",
            "1                   3  love dress sooo pretti happen find store im gl...   \n",
            "2                   3  high hope dress realli want work initi order p...   \n",
            "3                  13  love love love jumpsuit fun flirti fabul everi...   \n",
            "4                   0  shirt flatter due adjust front tie perfect len...   \n",
            "\n",
            "                                            Keywords  \n",
            "0              absolut, comfort, sexi, silki, wonder  \n",
            "1  bc, bought, definit, find, glad, hit, im, love...  \n",
            "2  bottom, cheap, comfort, fact, fit, half, layer...  \n",
            "3  compliment, everi, fabul, flirti, fun, get, gr...  \n",
            "4  adjust, cardigan, due, flatter, front, leg, le...  \n"
          ]
        }
      ]
    },
    {
      "cell_type": "code",
      "source": [
        "df = df.dropna(subset=['Sentiment'])\n"
      ],
      "metadata": {
        "id": "H8ir9gqRkGmu"
      },
      "execution_count": null,
      "outputs": []
    },
    {
      "cell_type": "code",
      "source": [
        "from sklearn.model_selection import train_test_split\n",
        "from sklearn.metrics import accuracy_score, classification_report\n",
        "from gensim.models import FastText\n",
        "import numpy as np\n",
        "from sklearn.linear_model import LogisticRegression\n",
        "\n",
        "# Split the data into training and testing sets\n",
        "X_train, X_test, y_train, y_test = train_test_split(df['Cleaned Review Text'], df['Sentiment'], test_size=0.2, random_state=42)\n",
        "\n",
        "# Train FastText model\n",
        "ft_model = FastText(sentences=X_train, vector_size=100, window=5, min_count=1, workers=4, sg=1)\n",
        "\n",
        "# Get sentence embeddings\n",
        "def get_sentence_embedding(sentence, model):\n",
        "    words = sentence.split()\n",
        "    embeddings = [model.wv[word] for word in words if word in model.wv]\n",
        "    if embeddings:\n",
        "        return np.mean(embeddings, axis=0)\n",
        "    else:\n",
        "        return np.zeros(model.vector_size)\n",
        "\n",
        "# Generate embeddings for training and testing data\n",
        "X_train_ft = np.array([get_sentence_embedding(sentence, ft_model) for sentence in X_train])\n",
        "X_test_ft = np.array([get_sentence_embedding(sentence, ft_model) for sentence in X_test])\n",
        "\n",
        "# Use any classification algorithm (e.g., Logistic Regression) for sentiment classification\n",
        "lr_model = LogisticRegression(max_iter=1000)\n",
        "lr_model.fit(X_train_ft, y_train)\n",
        "\n",
        "# Predict sentiment on the test data\n",
        "y_pred = lr_model.predict(X_test_ft)\n",
        "\n",
        "# Calculate accuracy and print classification report\n",
        "accuracy = accuracy_score(y_test, y_pred)\n",
        "print(\"Accuracy:\", accuracy)\n",
        "print(classification_report(y_test, y_pred))\n",
        "\n",
        "# Add the predicted sentiment column to the DataFrame\n",
        "df['Predicted Sentiment'] = lr_model.predict(np.array([get_sentence_embedding(sentence, ft_model) for sentence in df['Cleaned Review Text']]))\n",
        "\n",
        "# Display the updated DataFrame\n",
        "print(df.head())\n"
      ],
      "metadata": {
        "id": "tft0c6apQNMu",
        "colab": {
          "base_uri": "https://localhost:8080/"
        },
        "outputId": "67bcb892-e1a0-499e-b7d2-d9b126e9441d"
      },
      "execution_count": null,
      "outputs": [
        {
          "output_type": "stream",
          "name": "stderr",
          "text": [
            "WARNING:gensim.models.word2vec:Each 'sentences' item should be a list of words (usually unicode strings). First item here is instead plain <class 'str'>.\n"
          ]
        },
        {
          "output_type": "stream",
          "name": "stdout",
          "text": [
            "Accuracy: 0.999448275862069\n",
            "              precision    recall  f1-score   support\n",
            "\n",
            "         0.0       0.00      0.00      0.00         2\n",
            "         1.0       1.00      1.00      1.00      3623\n",
            "\n",
            "    accuracy                           1.00      3625\n",
            "   macro avg       0.50      0.50      0.50      3625\n",
            "weighted avg       1.00      1.00      1.00      3625\n",
            "\n"
          ]
        },
        {
          "output_type": "stream",
          "name": "stderr",
          "text": [
            "/usr/local/lib/python3.10/dist-packages/sklearn/metrics/_classification.py:1344: UndefinedMetricWarning: Precision and F-score are ill-defined and being set to 0.0 in labels with no predicted samples. Use `zero_division` parameter to control this behavior.\n",
            "  _warn_prf(average, modifier, msg_start, len(result))\n",
            "/usr/local/lib/python3.10/dist-packages/sklearn/metrics/_classification.py:1344: UndefinedMetricWarning: Precision and F-score are ill-defined and being set to 0.0 in labels with no predicted samples. Use `zero_division` parameter to control this behavior.\n",
            "  _warn_prf(average, modifier, msg_start, len(result))\n",
            "/usr/local/lib/python3.10/dist-packages/sklearn/metrics/_classification.py:1344: UndefinedMetricWarning: Precision and F-score are ill-defined and being set to 0.0 in labels with no predicted samples. Use `zero_division` parameter to control this behavior.\n",
            "  _warn_prf(average, modifier, msg_start, len(result))\n"
          ]
        },
        {
          "output_type": "stream",
          "name": "stdout",
          "text": [
            "   Age                                        Review Text  Rating  \\\n",
            "0   33  Absolutely wonderful - silky and sexy and comf...       4   \n",
            "1   34  Love this dress!  it's sooo pretty.  i happene...       5   \n",
            "2   60  I had such high hopes for this dress and reall...       3   \n",
            "3   50  I love, love, love this jumpsuit. it's fun, fl...       5   \n",
            "4   47  This shirt is very flattering to all due to th...       5   \n",
            "\n",
            "   Recommended IND  Positive Feedback Count   Division Name Department Name  \\\n",
            "0                1                        0       Initmates        Intimate   \n",
            "1                1                        4         General         Dresses   \n",
            "2                0                        0         General         Dresses   \n",
            "3                1                        0  General Petite         Bottoms   \n",
            "4                1                        6         General            Tops   \n",
            "\n",
            "  Class Name  Division Name Encoded  Department Name Encoded  \\\n",
            "0  Intimates                      2                        2   \n",
            "1    Dresses                      0                        1   \n",
            "2    Dresses                      0                        1   \n",
            "3      Pants                      1                        0   \n",
            "4    Blouses                      0                        4   \n",
            "\n",
            "   Class Name Encoded                                Cleaned Review Text  \\\n",
            "0                   5                  absolut wonder silki sexi comfort   \n",
            "1                   3  love dress sooo pretti happen find store im gl...   \n",
            "2                   3  high hope dress realli want work initi order p...   \n",
            "3                  13  love love love jumpsuit fun flirti fabul everi...   \n",
            "4                   0  shirt flatter due adjust front tie perfect len...   \n",
            "\n",
            "                                            Keywords  Sentiment  \\\n",
            "0              absolut, comfort, sexi, silki, wonder        1.0   \n",
            "1  bc, bought, definit, find, glad, hit, im, love...        1.0   \n",
            "2  bottom, cheap, comfort, fact, fit, half, layer...        1.0   \n",
            "3  compliment, everi, fabul, flirti, fun, get, gr...        1.0   \n",
            "4  adjust, cardigan, due, flatter, front, leg, le...        1.0   \n",
            "\n",
            "   Predicted Sentiment  \n",
            "0                  1.0  \n",
            "1                  1.0  \n",
            "2                  1.0  \n",
            "3                  1.0  \n",
            "4                  1.0  \n"
          ]
        }
      ]
    },
    {
      "cell_type": "code",
      "source": [
        "columns_to_drop = ['Division Name','Department Name','Class Name','Review Text','Predicted Sentiment']\n",
        "\n",
        "df = df.drop(columns=columns_to_drop)"
      ],
      "metadata": {
        "id": "WNkw2EImjafE"
      },
      "execution_count": null,
      "outputs": []
    },
    {
      "cell_type": "code",
      "source": [
        "df.info()"
      ],
      "metadata": {
        "colab": {
          "base_uri": "https://localhost:8080/"
        },
        "id": "pYraXIg3lSlB",
        "outputId": "9d6c0b67-29b7-4274-8d71-4ae552fd1e03"
      },
      "execution_count": null,
      "outputs": [
        {
          "output_type": "stream",
          "name": "stdout",
          "text": [
            "<class 'pandas.core.frame.DataFrame'>\n",
            "Index: 18122 entries, 0 to 18805\n",
            "Data columns (total 10 columns):\n",
            " #   Column                   Non-Null Count  Dtype  \n",
            "---  ------                   --------------  -----  \n",
            " 0   Age                      18122 non-null  int64  \n",
            " 1   Rating                   18122 non-null  int64  \n",
            " 2   Recommended IND          18122 non-null  int64  \n",
            " 3   Positive Feedback Count  18122 non-null  int64  \n",
            " 4   Division Name Encoded    18122 non-null  int64  \n",
            " 5   Department Name Encoded  18122 non-null  int64  \n",
            " 6   Class Name Encoded       18122 non-null  int64  \n",
            " 7   Cleaned Review Text      18122 non-null  object \n",
            " 8   Keywords                 18122 non-null  object \n",
            " 9   Sentiment                18122 non-null  float64\n",
            "dtypes: float64(1), int64(7), object(2)\n",
            "memory usage: 1.5+ MB\n"
          ]
        }
      ]
    },
    {
      "cell_type": "code",
      "source": [
        "import pandas as pd\n",
        "import matplotlib.pyplot as plt\n",
        "import seaborn as sns\n",
        "\n",
        "# Assuming df is your DataFrame containing sentiment data with columns 'Class Name Encoded' and 'Sentiment'\n",
        "# Assuming you have already defined the get_sentiment_label function\n",
        "\n",
        "# Group by product (Class Name Encoded) and calculate mean sentiment\n",
        "product_sentiment = df.groupby('Class Name Encoded')['Sentiment'].mean().reset_index()\n",
        "\n",
        "# Define sentiment labels\n",
        "def get_sentiment_label(sentiment):\n",
        "    if 0.9 <= sentiment < 0.99:\n",
        "        return 'Neutral'\n",
        "    elif sentiment >= 0.99:\n",
        "        return 'Good'\n",
        "    else:\n",
        "        return 'Bad'\n",
        "\n",
        "product_sentiment['Sentiment_Label'] = product_sentiment['Sentiment'].apply(get_sentiment_label)\n",
        "\n",
        "# Create scatter plot\n",
        "plt.figure(figsize=(12, 6))\n",
        "sns.scatterplot(x='Class Name Encoded', y='Sentiment', data=product_sentiment, hue='Sentiment_Label', palette='viridis')\n",
        "plt.xlabel('Product (Class Name Encoded)')\n",
        "plt.ylabel('Mean Sentiment')\n",
        "plt.title('Mean Sentiment for Each Product')\n",
        "plt.legend(title='Sentiment Label', loc='upper left')\n",
        "plt.show()\n"
      ],
      "metadata": {
        "colab": {
          "base_uri": "https://localhost:8080/",
          "height": 564
        },
        "id": "bjCvHocHvqa-",
        "outputId": "923fc8fb-74a5-493f-ae9f-018ceba466c4"
      },
      "execution_count": null,
      "outputs": [
        {
          "output_type": "display_data",
          "data": {
            "text/plain": [
              "<Figure size 1200x600 with 1 Axes>"
            ],
            "image/png": "[encoded data removed]"
          },
          "metadata": {}
        }
      ]
    },
    {
      "cell_type": "code",
      "source": [
        "# Group by age and calculate mean sentiment\n",
        "age_sentiment = df.groupby('Age')['Sentiment'].mean().reset_index()\n",
        "\n",
        "# Define sentiment labels\n",
        "def get_sentiment_label(sentiment):\n",
        "    if 0.9 <= sentiment < 0.99:\n",
        "        return 'Bad'\n",
        "    elif sentiment == 1:\n",
        "        return 'Good'\n",
        "    else:\n",
        "        return 'Other'\n",
        "\n",
        "age_sentiment['Sentiment_Label'] = age_sentiment['Sentiment'].apply(get_sentiment_label)\n",
        "\n",
        "# Visualize the data\n",
        "plt.figure(figsize=(12, 6))\n",
        "sns.barplot(x='Age', y='Sentiment', data=age_sentiment, hue='Sentiment_Label', palette={'Bad': 'red', 'Good': 'green', 'Other': 'blue'})\n",
        "plt.xlabel('Age')\n",
        "plt.ylabel('Mean Sentiment')\n",
        "plt.title('Mean Sentiment for Each Age Group')\n",
        "plt.legend(title='Sentiment Label', loc='upper left')\n",
        "plt.show()\n"
      ],
      "metadata": {
        "colab": {
          "base_uri": "https://localhost:8080/",
          "height": 564
        },
        "id": "gFh33zKKx9mK",
        "outputId": "659277a6-a733-4dc0-b963-100b7bb525f2"
      },
      "execution_count": null,
      "outputs": [
        {
          "output_type": "display_data",
          "data": {
            "text/plain": [
              "<Figure size 1200x600 with 1 Axes>"
            ],
            "image/png": "[encoded data removed]"
          },
          "metadata": {}
        }
      ]
    },
    {
      "cell_type": "code",
      "source": [
        "# Define the age bins\n",
        "bins = [10, 15, 20, 25, 30, 35, 40, 45, 50, 55, 60, 65, 70, 75, 80, 85, 90, 95, 100]\n",
        "\n",
        "# Create age groups\n",
        "df['Age Group'] = pd.cut(df['Age'], bins=bins, right=False)\n",
        "\n",
        "# Group by age group and calculate mean sentiment\n",
        "age_group_sentiment = df.groupby('Age Group')['Sentiment'].mean().reset_index()\n",
        "\n",
        "# Define sentiment labels\n",
        "def get_sentiment_label(sentiment):\n",
        "    if 0.9 <= sentiment < 0.99:\n",
        "        return 'Bad'\n",
        "    elif sentiment == 1:\n",
        "        return 'Good'\n",
        "    else:\n",
        "        return 'Other'\n",
        "\n",
        "age_group_sentiment['Sentiment_Label'] = age_group_sentiment['Sentiment'].apply(get_sentiment_label)\n",
        "\n",
        "# Visualize the data\n",
        "plt.figure(figsize=(12, 6))\n",
        "sns.barplot(x='Age Group', y='Sentiment', data=age_group_sentiment, hue='Sentiment_Label', palette={'Bad': 'red', 'Good': 'green', 'Other': 'blue'})\n",
        "plt.xlabel('Age Group')\n",
        "plt.ylabel('Mean Sentiment')\n",
        "plt.title('Mean Sentiment for Each Age Group')\n",
        "plt.xticks(rotation=45)\n",
        "plt.legend(title='Sentiment Label', loc='upper left')\n",
        "plt.show()\n"
      ],
      "metadata": {
        "colab": {
          "base_uri": "https://localhost:8080/",
          "height": 605
        },
        "id": "THvrqTR7yeJr",
        "outputId": "b0a98d7a-1c0f-4685-f29d-8d94d54936e5"
      },
      "execution_count": null,
      "outputs": [
        {
          "output_type": "display_data",
          "data": {
            "text/plain": [
              "<Figure size 1200x600 with 1 Axes>"
            ],
            "image/png": "[encoded data removed]"
          },
          "metadata": {}
        }
      ]
    },
    {
      "cell_type": "code",
      "source": [
        "import pandas as pd\n",
        "import matplotlib.pyplot as plt\n",
        "import seaborn as sns\n",
        "\n",
        "# Assuming df is your DataFrame containing sentiment data with columns 'Rating' and 'Sentiment'\n",
        "\n",
        "# Group by rating and calculate mean sentiment\n",
        "rating_sentiment = df.groupby('Rating')['Sentiment'].mean().reset_index()\n",
        "\n",
        "# Visualize the data\n",
        "plt.figure(figsize=(12, 6))\n",
        "sns.barplot(x='Rating', y='Sentiment', data=rating_sentiment, palette='viridis')\n",
        "plt.xlabel('Rating')\n",
        "plt.ylabel('Mean Sentiment')\n",
        "plt.title('Mean Sentiment for Each Rating')\n",
        "plt.show()\n"
      ],
      "metadata": {
        "colab": {
          "base_uri": "https://localhost:8080/",
          "height": 655
        },
        "id": "umhLl4phy1LW",
        "outputId": "005a92d4-bffb-420d-a8fb-37f894e171db"
      },
      "execution_count": null,
      "outputs": [
        {
          "output_type": "stream",
          "name": "stderr",
          "text": [
            "<ipython-input-39-b242ee69b1df>:12: FutureWarning: \n",
            "\n",
            "Passing `palette` without assigning `hue` is deprecated and will be removed in v0.14.0. Assign the `x` variable to `hue` and set `legend=False` for the same effect.\n",
            "\n",
            "  sns.barplot(x='Rating', y='Sentiment', data=rating_sentiment, palette='viridis')\n"
          ]
        },
        {
          "output_type": "display_data",
          "data": {
            "text/plain": [
              "<Figure size 1200x600 with 1 Axes>"
            ],
            "image/png": "[encoded data removed]"
          },
          "metadata": {}
        }
      ]
    },
    {
      "cell_type": "code",
      "source": [
        "# Example for 'Division Name Encoded' column\n",
        "encoded_values = df['Division Name Encoded'].unique()\n",
        "decoded_values = label_encoder.inverse_transform(encoded_values)\n",
        "\n",
        "# Create a dictionary to map encoded values to decoded values\n",
        "encoded_decoded_map = dict(zip(encoded_values, decoded_values))\n",
        "\n",
        "# Print the mapping\n",
        "print(\"Encoded to Decoded Mapping for 'Division Name Encoded':\")\n",
        "print(encoded_decoded_map)\n"
      ],
      "metadata": {
        "id": "8eV2zgvzzXoP",
        "outputId": "f5a392a8-d5fb-40b9-9cd6-dc84ca96f5e4",
        "colab": {
          "base_uri": "https://localhost:8080/"
        }
      },
      "execution_count": null,
      "outputs": [
        {
          "output_type": "stream",
          "name": "stdout",
          "text": [
            "Encoded to Decoded Mapping for 'Division Name Encoded':\n",
            "{2: 'Chemises', 0: 'Blouses', 1: 'Casual bottoms'}\n"
          ]
        }
      ]
    },
    {
      "cell_type": "code",
      "source": [],
      "metadata": {
        "id": "DdACdLO-6HMG"
      },
      "execution_count": null,
      "outputs": []
    }
  ]
}
